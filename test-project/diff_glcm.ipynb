{
 "cells": [
  {
   "cell_type": "code",
   "execution_count": null,
   "metadata": {},
   "outputs": [],
   "source": []
  },
  {
   "attachments": {},
   "cell_type": "markdown",
   "metadata": {},
   "source": [
    "idea is to work per axis basis and on discretized image (d not need to be differenatiable operation if I get it well) \n",
    "we need to choose discretizaion so each sum will be unique - for example in typical discretization 1,2,3,4 ...\n",
    "a sum 4 can be an effect of adding 1 and 3 or 2 and 2 ... so i think we need a series where next number is bigger than a previous by sum of 2 previous +2\n",
    "\n",
    "image 1 7 3 8 4\n"
   ]
  },
  {
   "cell_type": "code",
   "execution_count": 29,
   "metadata": {},
   "outputs": [
    {
     "name": "stdout",
     "output_type": "stream",
     "text": [
      "[1, 3, 5, 7, 9, 11, 13, 15, 17, 19, 21, 23, 25, 27, 29, 31, 33, 35, 37]\n",
      "[[ 1  1]\n",
      " [ 1  3]\n",
      " [ 1  5]\n",
      " [ 1  7]\n",
      " [ 1  9]\n",
      " [ 1 11]\n",
      " [ 1 13]\n",
      " [ 3 13]\n",
      " [ 3 15]\n",
      " [ 3 17]\n",
      " [ 5 17]\n",
      " [ 5 19]\n",
      " [ 5 21]\n",
      " [ 7 21]\n",
      " [ 7 23]\n",
      " [ 9 23]\n",
      " [ 9 25]\n",
      " [11 25]\n",
      " [11 27]\n",
      " [13 27]\n",
      " [13 29]\n",
      " [15 29]\n",
      " [15 31]\n",
      " [17 31]\n",
      " [17 33]\n",
      " [19 33]\n",
      " [21 33]\n",
      " [21 35]\n",
      " [23 35]\n",
      " [25 35]\n",
      " [25 37]\n",
      " [27 37]\n",
      " [29 37]\n",
      " [31 37]\n",
      " [33 37]\n",
      " [35 37]\n",
      " [37 37]]\n"
     ]
    },
    {
     "data": {
      "text/plain": [
       "array([ 2,  4,  6,  8, 10, 12, 14, 16, 18, 20, 22, 24, 26, 28, 30, 32, 34,\n",
       "       36, 38, 40, 42, 44, 46, 48, 50, 52, 54, 56, 58, 60, 62, 64, 66, 68,\n",
       "       70, 72, 74])"
      ]
     },
     "execution_count": 29,
     "metadata": {},
     "output_type": "execute_result"
    }
   ],
   "source": [
    "import numpy as np\n",
    "import einops\n",
    "import itertools\n",
    "\n",
    "a = np.arange(1,20)\n",
    "b = np.arange(0,19)\n",
    "c=np.stack([a,b])\n",
    "c= einops.rearrange(c,'h w -> w h')\n",
    "listt=list(map(lambda a: a[0]+a[1], c))\n",
    "print(listt)\n",
    "listt=list(itertools.product(listt,listt))\n",
    "listt=np.sort(listt,axis=1)\n",
    "listt=np.sort(listt,axis=0)\n",
    "\n",
    "listt=np.unique(listt,axis=0)\n",
    "\n",
    "def my_add(ar):\n",
    "    if(len(ar)==1):\n",
    "        return ar[0]*2\n",
    "    return ar[0]+ar[1]\n",
    "print(listt)\n",
    "\n",
    "listt=list(map(my_add,listt))\n",
    "np.sort(listt)\n"
   ]
  },
  {
   "cell_type": "code",
   "execution_count": null,
   "metadata": {},
   "outputs": [],
   "source": []
  }
 ],
 "metadata": {
  "kernelspec": {
   "display_name": "base",
   "language": "python",
   "name": "python3"
  },
  "language_info": {
   "codemirror_mode": {
    "name": "ipython",
    "version": 3
   },
   "file_extension": ".py",
   "mimetype": "text/x-python",
   "name": "python",
   "nbconvert_exporter": "python",
   "pygments_lexer": "ipython3",
   "version": "3.10.10"
  },
  "orig_nbformat": 4
 },
 "nbformat": 4,
 "nbformat_minor": 2
}
