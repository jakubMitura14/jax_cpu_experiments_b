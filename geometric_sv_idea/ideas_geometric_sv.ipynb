{
 "cells": [
  {
   "cell_type": "code",
   "execution_count": 16,
   "metadata": {},
   "outputs": [
    {
     "data": {
      "image/png": "[encoded data removed]",
      "text/plain": [
       "<Figure size 640x480 with 1 Axes>"
      ]
     },
     "metadata": {},
     "output_type": "display_data"
    }
   ],
   "source": [
    "#1 having fixed points  we get the point moving toward them depending on \n",
    "# the strength of pulling to the given fixed point\n",
    "\n",
    "# importing two required module \n",
    "import numpy as np\n",
    "import matplotlib.pyplot as plt\n",
    "import toolz\n",
    "import optax\n",
    "import jax.numpy as jnp\n",
    "\n",
    "\n",
    "\n",
    "def get_contribution_in_axes(fixed_point,strength):\n",
    "    # print(f\"fixed_point {fixed_point} strength {strength}\")\n",
    "    e_x= jnp.array([1.0,0.0])\n",
    "    e_y= jnp.array([0.0,1.0])\n",
    "    x=optax.cosine_similarity(e_x,fixed_point)*strength\n",
    "    y=optax.cosine_similarity(e_y,fixed_point)*strength\n",
    "    return jnp.array([x,y])\n",
    "\n",
    "\n",
    "# Creating a numpy array\n",
    "# X = np.array([2,2,3,4,4])\n",
    "# Y = np.array([2,4,3,2,4])\n",
    "\n",
    "# Plotting point using sactter method\n",
    "# plt.scatter(X,Y)\n",
    "# plt.show()\n",
    "\n",
    "points_const= jnp.array([[-2.0,-2.0],[-2.0,2.0],[2.0,2.0],[2.0,-2.0]])\n",
    "attraction_strength=jnp.array([3.0,3.0,1.0,1.0])\n",
    "\n",
    "to_move=list(map(lambda tuple: get_contribution_in_axes(tuple[0],tuple[1]), list(zip(points_const,attraction_strength ) )))\n",
    "to_move=jnp.stack(to_move)\n",
    "calced=jnp.sum(to_move,axis=0)\n",
    "calced= jnp.expand_dims(calced,axis=0)\n",
    "points_const= jnp.concatenate([points_const,calced],axis=0)\n",
    "X,Y=list(toolz.sandbox.core.unzip(points_const))\n",
    "X=list(X)\n",
    "Y=list(Y)\n",
    "plt.scatter(X,Y)\n",
    "plt.show()\n",
    "\n",
    "\n",
    "# optax.cosine_distance(jnp.array([[2.0,2.0]]),jnp.array([[2.0,2.0]]))"
   ]
  },
  {
   "cell_type": "code",
   "execution_count": 2,
   "metadata": {},
   "outputs": [
    {
     "data": {
      "text/plain": [
       "8"
      ]
     },
     "execution_count": 2,
     "metadata": {},
     "output_type": "execute_result"
    }
   ],
   "source": [
    "np.dot([2,2],[2,2])\n",
    "np.dot([2,2],[2,2])"
   ]
  },
  {
   "cell_type": "code",
   "execution_count": 3,
   "metadata": {},
   "outputs": [
    {
     "name": "stderr",
     "output_type": "stream",
     "text": [
      "No GPU/TPU found, falling back to CPU. (Set TF_CPP_MIN_LOG_LEVEL=0 and rerun for more info.)\n"
     ]
    },
    {
     "data": {
      "text/plain": [
       "Array([5.9604645e-08], dtype=float32)"
      ]
     },
     "execution_count": 3,
     "metadata": {},
     "output_type": "execute_result"
    }
   ],
   "source": [
    "import optax\n",
    "import jax.numpy as jnp\n",
    "optax.cosine_distance(jnp.array([[2.0,2.0]]),jnp.array([[2.0,2.0]]))"
   ]
  },
  {
   "cell_type": "code",
   "execution_count": 4,
   "metadata": {},
   "outputs": [
    {
     "data": {
      "text/plain": [
       "Array([-0.99999994], dtype=float32)"
      ]
     },
     "execution_count": 4,
     "metadata": {},
     "output_type": "execute_result"
    }
   ],
   "source": [
    "optax.cosine_similarity(jnp.array([[2.0,2.0]]),jnp.array([[-2.0,-2.0]]))"
   ]
  },
  {
   "cell_type": "code",
   "execution_count": null,
   "metadata": {},
   "outputs": [],
   "source": []
  }
 ],
 "metadata": {
  "kernelspec": {
   "display_name": "base",
   "language": "python",
   "name": "python3"
  },
  "language_info": {
   "codemirror_mode": {
    "name": "ipython",
    "version": 3
   },
   "file_extension": ".py",
   "mimetype": "text/x-python",
   "name": "python",
   "nbconvert_exporter": "python",
   "pygments_lexer": "ipython3",
   "version": "3.11.4"
  },
  "orig_nbformat": 4
 },
 "nbformat": 4,
 "nbformat_minor": 2
}
