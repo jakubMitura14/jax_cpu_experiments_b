{
 "cells": [
  {
   "cell_type": "code",
   "execution_count": 166,
   "metadata": {},
   "outputs": [],
   "source": [
    "# importing two required module \n",
    "import numpy as np\n",
    "import matplotlib.pyplot as plt\n",
    "import toolz\n",
    "import optax\n",
    "import jax.numpy as jnp\n",
    "import jax\n",
    "from flax import linen as nn\n"
   ]
  },
  {
   "cell_type": "code",
   "execution_count": 167,
   "metadata": {},
   "outputs": [],
   "source": [
    "def get_point_on_a_line(vertex_1,vertex_2,weight):\n",
    "    \"\"\" \n",
    "    so we want to get a section between vertex_1,vertex_2 \n",
    "    we first need to calcualte a slope of the line \n",
    "    https://www.w3schools.com/datascience/ds_linear_slope.asp\n",
    "\n",
    "    then we need to move up on a line with calculated slope as in \n",
    "    https://www.geeksforgeeks.org/find-points-at-a-given-distance-on-a-line-of-given-slope/\n",
    "    \"\"\"\n",
    "    #we get a slope\n",
    "    slope = (vertex_2[1]-vertex_1[0])/(vertex_2[0]-vertex_1[0])\n",
    "    #now we need a distance travelled on a line\n",
    "    vertex_diff=vertex_1-vertex_2\n",
    "    l= np.sqrt(np.dot(vertex_diff,vertex_diff ))*weight\n",
    "\n",
    "    dx = (l / np.sqrt(1 + (slope * slope)))\n",
    "    dy = slope * dx\n",
    "    \n",
    "    return np.array([vertex_1[0]+dx, vertex_1[1]+dy])\n",
    "\n",
    "\n",
    "\n",
    "def lineLineIntersection(A, B, C, D):\n",
    "    \"\"\" \n",
    "    based on https://www.geeksforgeeks.org/program-for-point-of-intersection-of-two-lines/\n",
    "    \"\"\"\n",
    "    # Line AB represented as a1x + b1y = c1\n",
    "    a1 = B[1] - A[1]\n",
    "    b1 = A[0] - B[0]\n",
    "    c1 = a1*(A[0]) + b1*(A[1])\n",
    " \n",
    "    # Line CD represented as a2x + b2y = c2\n",
    "    a2 = D[1] - C[1]\n",
    "    b2 = C[0] - D[0]\n",
    "    c2 = a2*(C[0]) + b2*(C[1])\n",
    "    \n",
    "\n",
    "    determinant = (a1*b2 - a2*b1)+0.000000000001\n",
    "    \n",
    "    # if (determinant == 0):\n",
    "    #     # The lines are parallel. This is simplified\n",
    "    #     # by returning a pair of FLT_MAX\n",
    "    #     return Point(10**9, 10**9)\n",
    "    # else:\n",
    "    x = (b2*c1 - b1*c2)/determinant\n",
    "    y = (a1*c2 - a2*c1)/determinant\n",
    "    return jnp.array([x, y])\n",
    "\n",
    "def orthoProjection(vertex_a,vertex_b,vertex_c):\n",
    "    \"\"\" \n",
    "    projection of a point on a line \n",
    "    adapted from https://stackoverflow.com/questions/55230528/find-point-where-altitude-meets-base-python\n",
    "    \"\"\"\n",
    "    # abx = bx - ax\n",
    "    abx = vertex_b[0] - vertex_a[0]\n",
    "    # aby = by - ay\n",
    "    aby = vertex_b[1] - vertex_a[1]\n",
    "    # acx = cx - ax\n",
    "    acx = vertex_c[0] - vertex_a[0]\n",
    "    # acy = cy - ay\n",
    "    acy = vertex_c[1] - vertex_a[1]\n",
    "    t = (abx * acx + aby * acy) / ((abx * abx + aby * aby)+0.000000001)\n",
    "    # px = ax + t * abx\n",
    "    px = vertex_a[0] + t * abx\n",
    "    # py = ay + t * aby\n",
    "    py = vertex_a[1] + t * aby\n",
    "    return jnp.array([px, py])\n",
    "\n",
    "\n",
    "def get_point_on_a_line_b(vertex_0,vertex_1,weight):\n",
    "    diff_x=vertex_1[0]-vertex_0[0]\n",
    "    diff_y=vertex_1[1]-vertex_0[1]\n",
    "    # weight=weight/2+1.5\n",
    "    # weight=(weight*2)\n",
    "\n",
    "    # C=jnp.array([vertex_0[0]+(diff_x*weight), vertex_0[1]])\n",
    "    # D=jnp.array([vertex_0[0],vertex_0[1]+(diff_y*weight)])\n",
    "\n",
    "    # alpha=np.pi/4\n",
    "    # beta=-np.pi/4\n",
    "    # a= vertex_0\n",
    "    # #just multiplied by rotation matrix, we divide by square root of 2 in order to keep the weights in domain 1 to two\n",
    "    # C= np.array([  a[0]*np.cos(alpha) + a[1]*np.sin(alpha), -a[0]*np.sin(alpha) + a[1]*np.cos(alpha)])/np.sqrt(2)\n",
    "    # D= np.array([  a[0]*np.cos(beta) + a[1]*np.sin(beta), -a[0]*np.sin(beta) + a[1]*np.cos(beta)])/np.sqrt(2)\n",
    "    \n",
    "    # C=C*weight\n",
    "    # D=D*weight\n",
    "    # print(f\"C {C} D {D} diff_x {diff_x} diff_y {diff_y}  vertex_0[0]{vertex_0[0]} diff_x*weight {diff_x*weight} sum {vertex_0[0]+(diff_x*weight)}\")\n",
    "    # return lineLineIntersection(vertex_0, vertex_1, C, D)\n",
    "    return np.array([vertex_0[0]+(diff_x*weight),vertex_0[1]+(diff_y*weight)])\n",
    "\n",
    "\n",
    "\n",
    "\n",
    "\"\"\" \n",
    "we want to put a new point in a triangle - that will be a new control point\n",
    "point is as specified constrained by a triangle weights live on each of the primary triangle edges\n",
    "so we take all three edges establish positions of temporary points by moving on those edges by percentege of their length\n",
    "    taken from (sigmoided) weights we get a section by connecting two points and we get a final output point by projecting the third point on to the\n",
    "    described section between previous 2 points\n",
    "\"\"\"\n",
    "def get_point_inside_triange(vertex_a,vertex_b,vertex_c,edge_weights):\n",
    "    p0=get_point_on_a_line_b(vertex_a,vertex_b,edge_weights[0])\n",
    "    p1=get_point_on_a_line_b(vertex_b,vertex_c,edge_weights[1])\n",
    "    # p2=get_point_on_a_line_b(vertex_c,vertex_a,edge_weights[2])\n",
    "    # print(f\"p0 {p0} p1 {p1} p2 {p2}\")\n",
    "    res=get_point_on_a_line_b(p0,p1,edge_weights[2])\n",
    "    return res,p0,p1\n",
    "\n",
    "\n",
    "\n"
   ]
  },
  {
   "cell_type": "code",
   "execution_count": 178,
   "metadata": {},
   "outputs": [
    {
     "name": "stdout",
     "output_type": "stream",
     "text": [
      "weights [0.96356964 0.71917896 0.01537353] d [ 3.85086519 10.5639028 ]\n"
     ]
    },
    {
     "data": {
      "image/png": "[encoded data removed]",
      "text/plain": [
       "<Figure size 640x480 with 1 Axes>"
      ]
     },
     "metadata": {},
     "output_type": "display_data"
    }
   ],
   "source": [
    "a=np.array([2,1])\n",
    "b=np.array([4,11])\n",
    "c=np.array([-3,4])\n",
    "edge_weights= np.random.random(3)\n",
    "# edge_weights= np.ones(3)/4\n",
    "\n",
    "\n",
    "d,p0,p1=get_point_inside_triange(a,b,c,edge_weights)\n",
    "print(f\"weights {edge_weights} d {d}\")\n",
    "points_const= np.stack([a,b,c,d,p0,p1])\n",
    "X,Y=list(toolz.sandbox.core.unzip(points_const))\n",
    "X=list(X)\n",
    "Y=list(Y)\n",
    "plt.scatter(X,Y,color=['red','red','red','blue','yellow','black'])\n",
    "plt.show()"
   ]
  },
  {
   "cell_type": "code",
   "execution_count": 184,
   "metadata": {},
   "outputs": [
    {
     "name": "stdout",
     "output_type": "stream",
     "text": [
      "[3.0, 1.0]\n"
     ]
    },
    {
     "data": {
      "image/png": "[encoded data removed]",
      "text/plain": [
       "<Figure size 640x480 with 1 Axes>"
      ]
     },
     "metadata": {},
     "output_type": "display_data"
    }
   ],
   "source": [
    "def get_point_on_a_line_b(vertex_0,vertex_1,weight):\n",
    "    diff_x=vertex_1[0]-vertex_0[0]\n",
    "    diff_y=vertex_1[1]-vertex_0[1]\n",
    "    return [vertex_0[0]+(diff_x*weight),vertex_0[1]+(diff_y*weight)]\n",
    "\n",
    "b=np.array([4,4])\n",
    "a=np.array([2,-2])\n",
    "# c=get_point_on_a_line_b(b,a,-0.3)\n",
    "c=get_point_on_a_line_b(b,a,0.5)\n",
    "print(c)\n",
    "points_const= np.stack([b,a,c])\n",
    "X,Y=list(toolz.sandbox.core.unzip(points_const))\n",
    "X=list(X)\n",
    "Y=list(Y)\n",
    "plt.scatter(X,Y,color=['blue','blue','red'])\n",
    "plt.show()"
   ]
  },
  {
   "cell_type": "code",
   "execution_count": 187,
   "metadata": {},
   "outputs": [
    {
     "data": {
      "text/plain": [
       "array([0])"
      ]
     },
     "execution_count": 187,
     "metadata": {},
     "output_type": "execute_result"
    }
   ],
   "source": [
    "a=np.array([0,8,7,3])\n",
    "a[1:-2]\n",
    "a[0:-3]"
   ]
  },
  {
   "cell_type": "code",
   "execution_count": null,
   "metadata": {},
   "outputs": [],
   "source": []
  }
 ],
 "metadata": {
  "kernelspec": {
   "display_name": "base",
   "language": "python",
   "name": "python3"
  },
  "language_info": {
   "codemirror_mode": {
    "name": "ipython",
    "version": 3
   },
   "file_extension": ".py",
   "mimetype": "text/x-python",
   "name": "python",
   "nbconvert_exporter": "python",
   "pygments_lexer": "ipython3",
   "version": "3.11.4"
  },
  "orig_nbformat": 4
 },
 "nbformat": 4,
 "nbformat_minor": 2
}
